{
 "metadata": {
  "language_info": {
   "codemirror_mode": {
    "name": "ipython",
    "version": 3
   },
   "file_extension": ".py",
   "mimetype": "text/x-python",
   "name": "python",
   "nbconvert_exporter": "python",
   "pygments_lexer": "ipython3",
   "version": 3
  },
  "orig_nbformat": 2
 },
 "nbformat": 4,
 "nbformat_minor": 2,
 "cells": [
  {
   "source": [
    "## Main Idea of word2vec\n",
    "- Iterate through each word of the whole corpus\n",
    "- predict surrounding words using word vectors\n",
    "- Update word vectors so you can predict well\n",
    "\n",
    "Note: this model will output the same predictions for each position. I.e. it wil say that \"house\" has a prob of X% to be the next word, and X% to be th eprevious word, and X% to be the second next word, etc.\n",
    "\n",
    "So a good model is one that gives a high probability to ALL words that occur in that context.\n",
    "\n",
    "It does this by putting similar words nearby in space\n",
    "\n",
    "This is the **Skip Gram** Method. You predict context words using the center word\n",
    "You can also use **Bag of Words**. where you predict the center word given the context words"
   ],
   "cell_type": "markdown",
   "metadata": {}
  },
  {
   "source": [],
   "cell_type": "markdown",
   "metadata": {}
  },
  {
   "cell_type": "code",
   "execution_count": null,
   "metadata": {},
   "outputs": [],
   "source": []
  }
 ]
}